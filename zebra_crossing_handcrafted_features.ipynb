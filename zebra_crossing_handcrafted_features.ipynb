{
 "cells": [
  {
   "cell_type": "code",
   "execution_count": null,
   "metadata": {},
   "outputs": [],
   "source": [
    "import glob\n",
    "import cv2 as cv\n",
    "import matplotlib.pyplot as plt\n",
    "import os\n",
    "import numpy as np\n",
    "from skimage.feature import local_binary_pattern\n",
    "import scipy\n",
    "import pandas as pd\n"
   ]
  },
  {
   "cell_type": "code",
   "execution_count": null,
   "metadata": {},
   "outputs": [],
   "source": [
    "images=[cv.imread(file) for file in sorted(glob.glob(r\"C:\\Users\\USER\\Handcrafted dataset\\ROI/*.png\"))]\n",
    "li1=[]\n",
    "for i,img in enumerate(images):\n",
    "    img = cv.cvtColor(img,cv.COLOR_RGB2GRAY)\n",
    "   \n",
    "    lbp_image=local_binary_pattern(img,8,2,method='uniform')\n",
    "    \n",
    "    \n",
    "    li=[]\n",
    "    histogram=scipy.stats.itemfreq(lbp_image)\n",
    "    plt.figure(figsize=(5,5))\n",
    "    plt.imshow(lbp_image)\n",
    "    for i in histogram.tolist():\n",
    "        li.append(i[1])\n",
    "    \n",
    "    \n",
    "    li.append(1)\n",
    "        \n",
    "    \n",
    "    li1.append(li)\n",
    "    \n",
    "    \n",
    "    "
   ]
  },
  {
   "cell_type": "code",
   "execution_count": null,
   "metadata": {},
   "outputs": [],
   "source": [
    "li1\n",
    "\n"
   ]
  },
  {
   "cell_type": "code",
   "execution_count": null,
   "metadata": {},
   "outputs": [],
   "source": [
    "df=pd.DataFrame(data=li1)"
   ]
  },
  {
   "cell_type": "code",
   "execution_count": null,
   "metadata": {},
   "outputs": [],
   "source": [
    "df"
   ]
  },
  {
   "cell_type": "code",
   "execution_count": null,
   "metadata": {},
   "outputs": [],
   "source": [
    "df=df.dropna(axis=0)"
   ]
  },
  {
   "cell_type": "code",
   "execution_count": null,
   "metadata": {},
   "outputs": [],
   "source": [
    "df"
   ]
  },
  {
   "cell_type": "code",
   "execution_count": null,
   "metadata": {},
   "outputs": [],
   "source": []
  }
 ],
 "metadata": {
  "kernelspec": {
   "display_name": "Python 3",
   "language": "python",
   "name": "python3"
  },
  "language_info": {
   "codemirror_mode": {
    "name": "ipython",
    "version": 3
   },
   "file_extension": ".py",
   "mimetype": "text/x-python",
   "name": "python",
   "nbconvert_exporter": "python",
   "pygments_lexer": "ipython3",
   "version": "3.7.4"
  }
 },
 "nbformat": 4,
 "nbformat_minor": 2
}
